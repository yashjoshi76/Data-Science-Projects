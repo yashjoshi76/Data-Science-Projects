{
 "cells": [
  {
   "cell_type": "code",
   "execution_count": null,
   "id": "af326b5c-aa8f-412b-93eb-9984bbcd789e",
   "metadata": {},
   "outputs": [],
   "source": [
    "import json\n"
   ]
  },
  {
   "cell_type": "code",
   "execution_count": null,
   "id": "695b8786-6068-406d-880a-f2d50abf93b8",
   "metadata": {
    "tags": []
   },
   "outputs": [],
   "source": [
    "arr = [{\n",
    "    \"boxID\": \"2cb5fdb9-1c69-487d-bc28-305c7539c6c5\",\n",
    "    \"addedbyID\": \"58ce4c21-a1c3-410f-9db9-c0bfa577973f\",\n",
    "    \"entryID\": \"00c68e1f-36c2-4312-b791-c43727624d16\",\n",
    "    \"value\": {\n",
    "      \"summary\": \"The first microbrewery on the Iveragh Pennisula\",\n",
    "      \"803eed9e-0104-4d8e-b4fa-dd6bb3ae28e4\": \"http://www.mcgillsbrewery.com/\",\n",
    "      \"business_name\": \"McGill's Brewery\",\n",
    "      \"date_added\": \"1625914871003\",\n",
    "      \"date_modified\": \"1625914869427\",\n",
    "      \"6dfafb13-fd77-4ed3-80ed-b2c3667e7d13\": \"mcgillsbrewery\",\n",
    "      \"9ca4862a-2c4b-4486-8952-21a51890d022\": \"McGillsBrewery\",\n",
    "      \"cc0491aa-6ea5-484f-a3ce-984dae1d24d1\": \"mcgillsbrewery\",\n",
    "      \"photo\": \"c3f7bcb1-f2c5-41dc-aa5b-defdb67e67a7\",\n",
    "      \"location\": {\n",
    "        \"place_URL\": \"https://www.google.com/maps/search/?api=1&query=51.849248835414784,-10.17078696268328\",\n",
    "        \"formatted_address\": \"Waterville, Loughcurrane, Kerry, Ireland\",\n",
    "        \"lng\": -10.17078696268328,\n",
    "        \"placeID\": \"locality.13456092713250180\",\n",
    "        \"manual_condensed\": \"Murreagh, Waterville, Co. Kerry\",\n",
    "        \"lat\": 51.849248835414784,\n",
    "        \"manual_full\": \"Murreagh, Waterville, Co. Kerry\"\n",
    "      },\n",
    "      \"ccf61bb6-8924-42db-9046-c34c32599da7\": \"1. Skellig Monk Irish Blonde Beer, 4.5%, \\n2. Dark Sky Reserve Irish Stout, 4.5%,  \\n3. Maude Delap Irish Red Ale, 5%,\"\n",
    "    }\n",
    "  },\n",
    "    {\n",
    "    \"boxID\": \"2cb5fdb9-1c69-487d-bc28-305c7539c6c5\",\n",
    "    \"addedbyID\": \"58ce4c21-a1c3-410f-9db9-c0bfa577973f\",\n",
    "    \"entryID\": \"0170b8bb-c6a1-4b9a-b2f4-d92f4b4f7c97\",\n",
    "    \"value\": {\n",
    "      \"photo\": {\n",
    "        \"key\": \"5f27c06b-051e-48c9-88d7-d17bcd0ce0c0\",\n",
    "        \"rotation\": 0,\n",
    "        \"offset\": {\n",
    "          \"x\": \"center\",\n",
    "          \"y\": \"center\"\n",
    "        }\n",
    "      },\n",
    "      \"business_name\": \"Carlow Brewing Company\",\n",
    "      \"summary\": \" \\nCarlow Brewing Company, also known as Oâ€™Haraâ€™s Brewery, is a family-owned business established in 1996 and one of the pioneers of Irish craft brewing\",\n",
    "      \"location\": \"{\\\"place_URL\\\":\\\"https://www.google.com/maps/search/?api=1&query=52.696939540121264,-6.976345416575725\\\",\\\"formatted_address\\\":\\\"Muine Bheag Business Park, Muinebeag, Carlow R21, Ireland\\\",\\\"lng\\\":-6.976345416575725,\\\"placeID\\\":\\\"address.1031262936883884\\\",\\\"manual_condensed\\\":\\\"Muine Bheag Business Park, Royal Oak Rd, Moneybeg, Muine Bheag, Co. Carlow\\\",\\\"lat\\\":52.696939540121264,\\\"manual_full\\\":\\\"Muine Bheag Business Park, Royal Oak Rd, Moneybeg, Muine Bheag, Co. Carlow\\\"}\",\n",
    "      \"ccf61bb6-8924-42db-9046-c34c32599da7\": \"â€¢\\tO'Hara's Irish Stout - 4.3% ABV\\n\\nâ€¢\\tO'Hara's Irish Red - 4.3% ABV\\n\\nâ€¢\\tO'Hara's Irish Lager -4.5 ABV \\n\\nâ€¢\\tO'Hara's Irish Pale Ale â€“ 5.2% ABV.\\n\\nâ€¢\\tO'Hara's Leann Follain 6% ABV\\n\\nâ€¢\\tO'Hara's Double IPA - 7.2% ABV\\n\\nâ€¢\\tOâ€™Haraâ€™s Session IPA - 3.8% ABV\\n\\nâ€¢\\t51st State IPA - 6% ABV\\n\\nâ€¢\\tO'Hara's Hazy IPA - 6.8% ABV\\n\\nâ€¢\\tO'Hara's West Coast IPA - 6.2% ABV\\n\",\n",
    "      \"bafcddc8-e495-4c53-8f42-a40517239bfb\": \"Vegan option\",\n",
    "      \"803eed9e-0104-4d8e-b4fa-dd6bb3ae28e4\": \"https://www.carlowbrewing.com/\",\n",
    "      \"6dfafb13-fd77-4ed3-80ed-b2c3667e7d13\": \"oharasbeers\",\n",
    "      \"9ca4862a-2c4b-4486-8952-21a51890d022\": \"oharasbeers\",\n",
    "      \"cc0491aa-6ea5-484f-a3ce-984dae1d24d1\": \"oharasbeers\",\n",
    "      \"date_added\": \"1626329992183\",\n",
    "      \"date_modified\": \"1639413147513\"\n",
    "    }\n",
    "  },\n",
    "]"
   ]
  },
  {
   "cell_type": "code",
   "execution_count": null,
   "id": "0cb773a4-d000-4162-8717-bfcd1cdb8beb",
   "metadata": {
    "tags": []
   },
   "outputs": [],
   "source": [
    "n_list = []\n",
    "n_dict = {}\n",
    "\n",
    "for i, n in enumerate(arr):\n",
    "    n_dict['Name'] = n['value']['business_name']\n",
    "    n_dict['Summary'] = n['value']['summary']\n",
    "    try:\n",
    "         n_dict['Lat'] = n['value']['location']['lat']\n",
    "    except:\n",
    "         n_dict['Lat'] = None\n",
    "    try:\n",
    "         n_dict['Lng'] = n['value']['location']['lng']\n",
    "    except:\n",
    "         n_dict['Lng'] = None\n",
    "    try:\n",
    "         n_dict['Address'] = n['value']['location']['formatted_address']\n",
    "    except:\n",
    "         n_dict['Lng'] = None\n",
    "    n_list.append(n_dict.copy())     \n",
    "\n",
    "\n",
    "final = json.dumps(n_list, indent=2)\n",
    "  \n",
    "# display\n",
    "print(final)\n",
    "  "
   ]
  }
 ],
 "metadata": {
  "kernelspec": {
   "display_name": "Python 3 (ipykernel)",
   "language": "python",
   "name": "python3"
  },
  "language_info": {
   "codemirror_mode": {
    "name": "ipython",
    "version": 3
   },
   "file_extension": ".py",
   "mimetype": "text/x-python",
   "name": "python",
   "nbconvert_exporter": "python",
   "pygments_lexer": "ipython3",
   "version": "3.9.5"
  }
 },
 "nbformat": 4,
 "nbformat_minor": 5
}
